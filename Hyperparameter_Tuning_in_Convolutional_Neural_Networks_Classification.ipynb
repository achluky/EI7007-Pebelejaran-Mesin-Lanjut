{
  "nbformat": 4,
  "nbformat_minor": 0,
  "metadata": {
    "colab": {
      "name": "Hyperparameter Tuning in Convolutional Neural Networks - Classification.ipynb",
      "provenance": [],
      "collapsed_sections": [],
      "authorship_tag": "ABX9TyOgg9mLp/RGhxzqkOqq2Iiv"
    },
    "kernelspec": {
      "name": "python3",
      "display_name": "Python 3"
    },
    "language_info": {
      "name": "python"
    }
  },
  "cells": [
    {
      "cell_type": "markdown",
      "source": [
        "# Persoalan klasifikasi dengan menggunakan convolutional neural network (CNN)\n",
        "\n",
        "Pada bagian ini proses eksplorasi difokuskan dalam permasalahan klasifikasi. Dataset yang digunakan adalah Fashion-MNIST. \n"
      ],
      "metadata": {
        "id": "pxCuLTn1qrdt"
      }
    },
    {
      "cell_type": "markdown",
      "source": [
        "## Dataset Fashion-MNIST\n",
        "Fashion-MNIST merupakan dataset yang diperoleh dari kumpulan gambar produk fashion. Sebelumnya, pada tahun 1998 Fashion-MNIST sudah memiliki beberapa kumpulan data namun berupa numerik MNIST yang ditulis dengan tangan yang diperkenalkan oleh LeCun et al, dan itu yang menjadi kumpulan data terbesar yang akan digunakan sebagai kumpulan data uji dalam deep learning. Dataset Fashion-MNIST biasanya memiliki jumlah yang sama, namun akan ada jenis klasifikasi yang berbeda, karena klasifikasi dari Fashion-MNIST yaitu terdiri dari kategori\n",
        "\n",
        "1. T-shirt\n",
        "2. Trouser\n",
        "3. Pullover\n",
        "4. Coat\n",
        "5. Dress\n",
        "6. Sandals\n",
        "7. Shirt\n",
        "8. Sneaker\n",
        "9. Bag\n",
        "10. Ankle Boots"
      ],
      "metadata": {
        "id": "1h8x1cGa2mH1"
      }
    },
    {
      "cell_type": "markdown",
      "source": [
        "## Isi dataset\n",
        "This is a dataset of 60,000 28x28 grayscale images of 10 fashion categories, along with a test set of 10,000 images.\n",
        "\n",
        "Pembagian kelas pada data adalah\n",
        "\n",
        "\n",
        "| Kelas      | Deskripsi |\n",
        "| ----------- | ----------- |\n",
        "| 0   | T-shirt/top |\n",
        "| 1   | Trouser |\n",
        "| 2   | Pullover |\n",
        "| 3   | Dress |\n",
        "| 4   | Coat  |\n",
        "| 5   | Sandal        |\n",
        "| 6   | Shirt        |\n",
        "| 7   | Sneaker        |\n",
        "| 8   | Bag|\n",
        "| 9   | Ankle boot|"
      ],
      "metadata": {
        "id": "6EuPov7X4-d6"
      }
    },
    {
      "cell_type": "markdown",
      "source": [
        "Sumber: [Keras](https://keras.io/api/datasets/fashion_mnist/)"
      ],
      "metadata": {
        "id": "ReJXXsZd6RVB"
      }
    },
    {
      "cell_type": "markdown",
      "source": [
        "## Load package dan Library"
      ],
      "metadata": {
        "id": "DGRCTzYL6sMv"
      }
    },
    {
      "cell_type": "code",
      "source": [
        "import numpy as np\n",
        "import pandas as pd\n",
        "from sklearn.model_selection import train_test_split\n",
        "from sklearn.metrics import classification_report\n",
        "from tensorflow.python import keras\n",
        "from tensorflow.python.keras.models import Sequential\n",
        "from tensorflow.python.keras.layers import Dense, Flatten, Conv2D, Dropout, MaxPooling2D\n",
        "from IPython.display import SVG\n",
        "from keras.utils.vis_utils import model_to_dot\n",
        "from keras.utils import plot_model\n",
        "import seaborn as sns\n",
        "import matplotlib.pyplot as plt\n",
        "%matplotlib inline \n",
        "import plotly.graph_objs as go\n",
        "import plotly.figure_factory as ff\n",
        "from plotly import tools\n",
        "from plotly.offline import download_plotlyjs, init_notebook_mode, plot, iplot\n",
        "init_notebook_mode(connected=True)"
      ],
      "metadata": {
        "id": "bNz46uC86455"
      },
      "execution_count": null,
      "outputs": []
    }
  ]
}