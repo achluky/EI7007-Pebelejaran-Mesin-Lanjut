{
  "nbformat": 4,
  "nbformat_minor": 0,
  "metadata": {
    "colab": {
      "name": "Hyperparameter Tuning in Convolutional Neural Networks.ipynb",
      "provenance": [],
      "collapsed_sections": [],
      "toc_visible": true,
      "authorship_tag": "ABX9TyM0iuerqYJ8CqmPD3t9gkYm"
    },
    "kernelspec": {
      "name": "python3",
      "display_name": "Python 3"
    },
    "language_info": {
      "name": "python"
    }
  },
  "cells": [
    {
      "cell_type": "markdown",
      "source": [
        "# A step-by-step hyperparameter optimization in Convolutional Neural Network (CNN)"
      ],
      "metadata": {
        "id": "pxCuLTn1qrdt"
      }
    }
  ]
}